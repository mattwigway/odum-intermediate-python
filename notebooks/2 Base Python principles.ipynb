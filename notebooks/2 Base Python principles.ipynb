{
 "cells": [
  {
   "cell_type": "markdown",
   "id": "db6a1b6c-8619-4daa-99a9-104b31f2e2e7",
   "metadata": {},
   "source": [
    "# Base Python principles\n",
    "\n",
    "In the introduction to Python class, we learned about using the Pandas and Matplotlib libraries, but didn't learn much about the syntax of Python itself. In particular, all of the notebooks we ran in Introduction to Python were _linear_: Python executed the lines of code in order from top to bottom, without repeating or skipping any. In larger projects, it is often desirable to have _non-linear control flow_, where the lines are not executed in order—some may be repeated, some may be executed in a place other than where they were written, and some may be skipped altogether.\n",
    "\n",
    "Initially, this would seem to make writing code much more complicated—and in some ways it does. But it also makes code simpler in many cases. For instance, you might need to apply the same calculation many times to different columns, or different values; using nonlinear control flow allows you to do this without duplicating code. You might want a notebook to work on multiple data files (for instance, one notebook that produces quarterly reports should be able to handle data from any quarter, just by changing the files it reads). This might imply some special cases with code that should only be executed in certain circumstances. Both of these allow you to follow the common programming idiom \"Don't Repeat Yourself\"—i.e. don't have the same or very similar code repeated throughout the project. The main reason for this is maintenance. Suppose you had some aggregation that you used throughout your analysis, and decide to change it—if it's coded in a bunch of different places, you have to find and fix them all, which could lead to errors or omissions. If that code is written once, you only have to fix it once.\n",
    "\n",
    "We are not importing pandas here, since we will be learning about built-in functionality of Python. We are importing a few built in libraries that come with Python."
   ]
  },
  {
   "cell_type": "code",
   "execution_count": null,
   "id": "b5f36cd5-7ff9-4658-9982-addfc3b614e9",
   "metadata": {},
   "outputs": [],
   "source": [
    "import datetime\n",
    "import random"
   ]
  },
  {
   "cell_type": "markdown",
   "id": "90a47aec-1160-4454-afaa-796b9e23b5b3",
   "metadata": {},
   "source": [
    "## Conditionals\n",
    "\n",
    "The first tool for non-linear control flow we will be talking about is the conditional or if statement. This statement executes the following code only if the condition specified in the statement is true. For instance, the following code cell will run only if the seconds component of the current time is less than 30. Run it several times, until the output changes.\n",
    "\n",
    "In this cell, we also see the first use of an _indented block_. Notice that the `print` line is indented from the left margin. This signals to Python that this line is part of the body of the if statement - i.e. it should be executed based on whether the current second is less than 30. Any number of lines below the if statement may be indented, and blank lines and comments may be included. The body of the if statement ends at the first non-blank, non-comment line that is not indented.\n",
    "\n",
    "If you're familiar with other programming languages, you've likely seen indentation used like this before. In most programming languages, this is a stylistic choice. It makes the code easier to read, but does not affect what it does. However, in Python, the indentation actually affects what the code does, because it determines which lines of code make up the body of a particular section of the code."
   ]
  },
  {
   "cell_type": "code",
   "execution_count": null,
   "id": "73c22277-f559-41b0-933f-050dc1031720",
   "metadata": {},
   "outputs": [],
   "source": [
    "current_time = datetime.datetime.today()\n",
    "\n",
    "if current_time.second < 30:\n",
    "    print(\"Seconds are less than 30\")"
   ]
  },
  {
   "cell_type": "markdown",
   "id": "ba20a3c1-909c-41f5-9384-b0b29f69c58a",
   "metadata": {},
   "source": [
    "The `if` statement can also be optionally paired with an `else` statement. When there is an `if` paired with an `else`, the body of one of those statements will always be executed - either the `if` if the condition is true, or the `else` otherwise."
   ]
  },
  {
   "cell_type": "code",
   "execution_count": null,
   "id": "174b0d51-760f-4d38-85ff-d8febcf65666",
   "metadata": {},
   "outputs": [],
   "source": [
    "current_time = datetime.datetime.today()\n",
    "\n",
    "if current_time.second < 30:\n",
    "    print(\"Seconds are less than 30\")\n",
    "else:\n",
    "    print(\"Seconds are greater than or equal to 30\")"
   ]
  },
  {
   "cell_type": "markdown",
   "id": "43bcd08d-4ef1-40c9-be32-90387af9cec0",
   "metadata": {},
   "source": [
    "Finally, there is also an `elif` (\"else if\") statement, which combines the two when you want to have more than two possible outcomes:"
   ]
  },
  {
   "cell_type": "code",
   "execution_count": null,
   "id": "bef07800-3a5e-4547-91f8-8aa86a3739b2",
   "metadata": {},
   "outputs": [],
   "source": [
    "current_time = datetime.datetime.today()\n",
    "\n",
    "if current_time.second < 20:\n",
    "    print(\"Seconds are less than 20\")\n",
    "elif current_time.second < 40:\n",
    "    print(\"Seconds are between 20 and 40\")\n",
    "else:\n",
    "    print(\"Seconds are greater than or equal to 40\")"
   ]
  },
  {
   "cell_type": "markdown",
   "id": "3962253d-1e8b-4fae-bae2-53b8a36dd91e",
   "metadata": {},
   "source": [
    "### The conditions\n",
    "\n",
    "Any condition that evaluates to `True` or `False` may be used by an `if` statement. There are lots of ways to do this, but the most common way is with comparison operators:\n",
    "\n",
    "- `a < b`: True if a is less than b. a and b can be variables or literal numbers typed out in your code\n",
    "- `a <= b`: True if a is less than or equal to b.\n",
    "- `a > b`, `a >= b`: a is greater than/greater than or equal to b.\n",
    "- `a == b`: a equals b (note-this is a double equal sign. A single equal sign is for assignment, a double for comparison)\n",
    "- `a != b`: a does not equal b\n",
    "- `a in b`: b contains a. Usually b will be a list or array of some sort, which we'll discuss briefly.\n",
    "- `a % b == 0`: a is divisible by b\n",
    "\n",
    "### Exercise\n",
    "\n",
    "The cell below sets \"value\" to a random value between 0 and 1. Write an if...elif...else statement that prints whether it is less than 0.25, between 0.25 and 0.75, or greater than 0.75."
   ]
  },
  {
   "cell_type": "code",
   "execution_count": null,
   "id": "71a5424b-8fa6-4f53-93d3-565517577227",
   "metadata": {},
   "outputs": [],
   "source": [
    "value = random.random()"
   ]
  },
  {
   "cell_type": "markdown",
   "id": "31e664f2-81e7-4c5d-befe-71370b56634b",
   "metadata": {
    "tags": []
   },
   "source": [
    "## Lists and tuples\n",
    "\n",
    "Lists and tuples are both objects that can contain multiple items. The only difference is that a list is _mutable_ (meaning you can change the elements of it after it's created), while a tuple is _immutable_. These are conceptually similar to `pandas` data frame columns or `numpy` arrays, with some technical differences we'll discuss a bit later. Lists are created with comma-separated elements within square brackets, while tuples are created using comma-separated elements within parentheses."
   ]
  },
  {
   "cell_type": "code",
   "execution_count": null,
   "id": "044e0ca7-a721-45ba-882a-1f6d78772b88",
   "metadata": {},
   "outputs": [],
   "source": [
    "mylist = [\"this\", \"is\", \"a\", \"test\"]"
   ]
  },
  {
   "cell_type": "code",
   "execution_count": null,
   "id": "23c95873-cf3b-465d-be76-5f1910f2bb81",
   "metadata": {},
   "outputs": [],
   "source": [
    "mytuple = (\"this\", \"is\", \"a\", \"test\")"
   ]
  },
  {
   "cell_type": "markdown",
   "id": "093527d3-9b47-4096-bbc1-1828e5018262",
   "metadata": {},
   "source": [
    "To create a tuple with a single element, you need to include a comma after the element, so Python knows you want a tuple rather than specifying order of operations in a mathematical context."
   ]
  },
  {
   "cell_type": "code",
   "execution_count": null,
   "id": "50730376-5994-48b0-bec6-b27c6d844a4f",
   "metadata": {},
   "outputs": [],
   "source": [
    "mytuple1 = (\"test\",)"
   ]
  },
  {
   "cell_type": "code",
   "execution_count": null,
   "id": "c3ce32b0-6601-4f8a-804d-b2b1ea7c085e",
   "metadata": {},
   "outputs": [],
   "source": [
    "mylist"
   ]
  },
  {
   "cell_type": "code",
   "execution_count": null,
   "id": "801c959b-975e-494d-ad93-5234273aac4d",
   "metadata": {},
   "outputs": [],
   "source": [
    "mytuple"
   ]
  },
  {
   "cell_type": "code",
   "execution_count": null,
   "id": "25200692-80f9-4cee-9894-db99dd283ed6",
   "metadata": {},
   "outputs": [],
   "source": [
    "mytuple1"
   ]
  },
  {
   "cell_type": "markdown",
   "id": "5f444673-d577-4757-8db9-7905cb2d59ff",
   "metadata": {},
   "source": [
    "You can reference items in lists and tuples by number, using subscript notation. The numbers start with 0."
   ]
  },
  {
   "cell_type": "code",
   "execution_count": null,
   "id": "590c50aa-434a-4e2e-8318-fbd93976d586",
   "metadata": {},
   "outputs": [],
   "source": [
    "mylist[1]"
   ]
  },
  {
   "cell_type": "code",
   "execution_count": null,
   "id": "12e3bdc9-1bc2-4a25-b4b1-9000bddb9866",
   "metadata": {},
   "outputs": [],
   "source": [
    "mytuple[2]"
   ]
  },
  {
   "cell_type": "markdown",
   "id": "e4ae67a3-759c-4801-88d5-5d7ce3084615",
   "metadata": {},
   "source": [
    "## Dicts\n",
    "\n",
    "Dicts, or dictionaries, map a _key_ to a _value_. For instance, the code below defines a dictionary that maps foods to whether they are fruits or vegetables."
   ]
  },
  {
   "cell_type": "code",
   "execution_count": null,
   "id": "d8af37a7-6270-4ce9-8e98-b90bbb77df41",
   "metadata": {},
   "outputs": [],
   "source": [
    "foods = {\n",
    "    \"cucumber\": \"vegetable\",\n",
    "    \"strawberry\": \"fruit\",\n",
    "    \"apple\": \"fruit\",\n",
    "    \"squash\": \"vegetable\",\n",
    "    \"potato\": \"vegetable\",\n",
    "    \"mango\": \"fruit\"\n",
    "}\n",
    "foods"
   ]
  },
  {
   "cell_type": "markdown",
   "id": "85bb3b91-58a8-4925-99f5-5ca5f19be997",
   "metadata": {},
   "source": [
    "Like with lists, items in dicts can be looked up with subscript notation."
   ]
  },
  {
   "cell_type": "code",
   "execution_count": null,
   "id": "6fb2d5c2-e477-47ab-94ea-b2a54e443f38",
   "metadata": {},
   "outputs": [],
   "source": [
    "foods[\"apple\"]"
   ]
  },
  {
   "cell_type": "markdown",
   "id": "87fb9b9e-ecee-4143-8c8d-ee16e7dfbb5c",
   "metadata": {},
   "source": [
    "## Loops\n",
    "\n",
    "Sometimes, you may want to run the same section of code multiple times, for instance if you wanted to apply some operation to every item in a list. Loops allow you to do this. There are two types of loops in Python: `for` loops and `while` loops. `for` loops loop a set number of times determined at the outset; this might be one _iteration_ for each value in a list, or simply looping a defined number of times. `while` loops loop until some condition is not true.\n",
    "\n",
    "In the next cell, I define a list of numbers, and loop over them, printing out the squared value of each.\n",
    "\n",
    "The syntax of a for loop is `for variable in list:`. The body of the loop (indented portion) will be executed once for each item in the list, and `variable` will refer to the current item. You can call variable pretty much anything you like."
   ]
  },
  {
   "cell_type": "code",
   "execution_count": null,
   "id": "aa6c8d02-2bad-4487-99dc-4472438174da",
   "metadata": {},
   "outputs": [],
   "source": [
    "numbers = [2, 6, 12, 3, 5]\n",
    "\n",
    "for number in numbers:\n",
    "    print(number ** 2)"
   ]
  },
  {
   "cell_type": "markdown",
   "id": "f0640561-1446-46c2-acdc-b5ec4b60709b",
   "metadata": {},
   "source": [
    "It's fairly common to want to loop a specified number of times, and Python provides a handy function called `range` for that. `range(3)`, for example, produces a list `[0, 1, 2]` - with three items. The `i` variable below references the current number within the loop."
   ]
  },
  {
   "cell_type": "code",
   "execution_count": null,
   "id": "845f3477-ce1c-439f-8577-bbf2d7658c82",
   "metadata": {},
   "outputs": [],
   "source": [
    "for i in range(3):\n",
    "    print(i ** 2)"
   ]
  },
  {
   "cell_type": "markdown",
   "id": "de538474-dfd3-42a0-ae96-92311fccd84c",
   "metadata": {},
   "source": [
    "While loops are much less common than for loops, but are used when you don't know how many times the loop should run at the start of the loop. Instead, they have a condition at the top which is evaluated each time the loop runs, to determine if the loop should keep going. These are often used in model estimation processes, for example, when waiting for a model to reach some convergence/stopping criterion. For instance, the loop below finds all Fibonacci numbers less than 100. We don't know how many there are at the outset, so we use a while loop."
   ]
  },
  {
   "cell_type": "code",
   "execution_count": null,
   "id": "e52e12cb-1882-4b77-8bcd-b11cb7781e3b",
   "metadata": {},
   "outputs": [],
   "source": [
    "previous = 0\n",
    "current = 1\n",
    "\n",
    "while current < 100:\n",
    "    next_fib = previous + current\n",
    "    print(next_fib)\n",
    "    previous = current\n",
    "    current = next_fib"
   ]
  },
  {
   "cell_type": "markdown",
   "id": "34060641-7691-4dc7-a4dc-99a5221b4724",
   "metadata": {},
   "source": [
    "This list also includes 144—the first Fibonacci number greater than 100. Why is this?\n",
    "\n",
    "\n",
    "<details>\n",
    "    <summary>Answer</summary>\n",
    "    \n",
    "    The while loop condition is evaluated at the start of each loop. When current = 89, the loop runs, and next_fib becomes 144. We can fix this by printing `current` instead of `next_fib`\n",
    "</details>"
   ]
  },
  {
   "cell_type": "code",
   "execution_count": null,
   "id": "5a25f6e5-bfa2-43e8-a032-f31827784aba",
   "metadata": {},
   "outputs": [],
   "source": [
    "previous = 0\n",
    "current = 1\n",
    "\n",
    "while current < 100:\n",
    "    print(current)\n",
    "    next_fib = previous + current\n",
    "    previous = current\n",
    "    current = next_fib"
   ]
  },
  {
   "cell_type": "markdown",
   "id": "63a075a8-877e-4b73-a2ca-692ded595a25",
   "metadata": {},
   "source": [
    "### Control flow in loops\n",
    "\n",
    "There are two additional statements that can be used in loops: `break` and `continue`. `break` ends the loop immediately, while `continue` goes on to the next iteration immediately, skipping any remaining code in the loop. They are always combined with an `if` statement, so they do not run on every loop iteration; otherwise there wouldn't be much point in using a loop. For example, we can rewrite the code above looping over numbers and squaring them to skip any numbers larger than 10. This also demonstrates _nesting_ loops and if statements. You can nest these together, and the body of each is determined by the level of indentation."
   ]
  },
  {
   "cell_type": "code",
   "execution_count": null,
   "id": "9e155f85-f73c-4b6a-a45a-7c1394b1a077",
   "metadata": {},
   "outputs": [],
   "source": [
    "numbers = [2, 6, 12, 3, 5]\n",
    "\n",
    "for number in numbers:\n",
    "    if number > 10:\n",
    "        continue\n",
    "    \n",
    "    print(number ** 2)"
   ]
  },
  {
   "cell_type": "markdown",
   "id": "2f585f8f-ab96-479f-b027-0e261567cf7e",
   "metadata": {},
   "source": [
    "We could do the same thing, but instead exit the loop if there was a number greater than 10:"
   ]
  },
  {
   "cell_type": "code",
   "execution_count": null,
   "id": "1340a7d9-0ea0-4135-a6cc-060d00dee485",
   "metadata": {},
   "outputs": [],
   "source": [
    "numbers = [2, 6, 12, 3, 5]\n",
    "\n",
    "for number in numbers:\n",
    "    if number > 10:\n",
    "        break\n",
    "    \n",
    "    print(number ** 2)"
   ]
  },
  {
   "cell_type": "markdown",
   "id": "3e87627d-74eb-4851-9561-d5627b298dfa",
   "metadata": {},
   "source": [
    "The break statement is often used in conjunction with a `while` loop, in conditions where the stopping criteria are complex and can't easily be determined at the start of the function. For instance, we might test the [Collatz conjecture](https://en.wikipedia.org/wiki/Collatz_conjecture). This is a deceptively simple open problem in mathematics, which states that repeatedly applying the simple operation of dividing even numbers by 2 and tripling odd numbers and adding 1 will eventually result in 1 for any positive integer starting value. No one has been able to prove this, but no one has found a counterexample, either. We will use a while loop combined with if statements to calculate the Collatz conjecture.\n",
    "\n",
    "(If this class ends up inspiring you to solve it, mention me in your Fields medal acceptance speech.)"
   ]
  },
  {
   "cell_type": "code",
   "execution_count": null,
   "id": "1dd90d3d-ff16-45cf-a212-18fc17e2427f",
   "metadata": {},
   "outputs": [],
   "source": [
    "collatz = 17 # change this to whatever you like\n",
    "\n",
    "while True:\n",
    "    print(collatz)\n",
    "    if collatz % 2 == 0:\n",
    "        # the number is even\n",
    "        # // is integer divide in Python. The number is even so we know it can be divided by two and\n",
    "        # still result in an integer.\n",
    "        # Most mathematical operations have an \"assigning\" version with an = appended, that assigns the result\n",
    "        # back to the variable on the left hand side\n",
    "        collatz //= 2 \n",
    "    else:\n",
    "        # the number is odd\n",
    "        collatz *= 3\n",
    "        collatz += 1\n",
    "    \n",
    "    if collatz == 1:\n",
    "        print(\"Success: Collatz number is 1\")\n",
    "        break"
   ]
  },
  {
   "cell_type": "markdown",
   "id": "c91dc466-ba26-4796-b12b-4cafcb710f02",
   "metadata": {},
   "source": [
    "### Exercise\n",
    "\n",
    "Re-write the code above which computes the Collatz conjecture without using a `break` statement."
   ]
  },
  {
   "cell_type": "code",
   "execution_count": null,
   "id": "35c9956d-dfce-4c11-9b54-c869b0e475bf",
   "metadata": {},
   "outputs": [],
   "source": []
  },
  {
   "cell_type": "markdown",
   "id": "682dd584-cd55-4fa7-8996-35aae2a0239c",
   "metadata": {},
   "source": [
    "## Functions\n",
    "\n",
    "_Functions_ are re-usable pieces of code that you define once and can then run many times. Functions can optionally take one or more _arguments_, which affect how they work, and they _return_ a value. They work just like functions in math, which operate on some input and evaluate to some output. We've been using functions since we started using Python - for example, `read_csv`, `sum`, `print`, etc. are all functions. Now we'll learn to create our own.\n",
    "\n",
    "Functions allow you to write code once and re-use it, rather than having the same or similar code all over the place in your notebooks. They even allow you to move your code out of your noteboooks and into shared files. And they allow you to write automated tests to help ensure your analysis is correct.\n",
    "\n",
    "In Python, the `def` (define) statment is used to create a function. It is followed by the name of the function, and the arguments in parentheses. An indented block follows which defines the _body_ of the function - the code that will be executed.\n",
    "\n",
    "When you define a function, the code is not executed. Rather, it is stored, and is executed later, when you _call_ the function.\n",
    "\n",
    "We can define a function that computes the Collatz conjecture for any starting point - the starting point will be an argment to the function."
   ]
  },
  {
   "cell_type": "code",
   "execution_count": null,
   "id": "9275ef37-7e01-4ca9-9422-3d25f860c33b",
   "metadata": {},
   "outputs": [],
   "source": [
    "def collatz_conjecture (current_value):\n",
    "    while True:\n",
    "        print(current_value)\n",
    "        if current_value % 2 == 0:\n",
    "            # the number is even\n",
    "            # // is integer divide in Python. The number is even so we know it can be divided by two and\n",
    "            # still result in an integer.\n",
    "            # Most mathematical operations have an \"assigning\" version with an = appended, that assigns the result\n",
    "            # back to the variable on the left hand side\n",
    "            current_value //= 2 \n",
    "        else:\n",
    "            # the number is odd\n",
    "            current_value *= 3\n",
    "            current_value += 1\n",
    "\n",
    "        if current_value == 1:\n",
    "            print(\"Success: Collatz number is 1\")\n",
    "            break"
   ]
  },
  {
   "cell_type": "markdown",
   "id": "890bb8ea-3904-4dab-a162-de23e448af6a",
   "metadata": {},
   "source": [
    "The function has now been defined, but none of the code in it has actually been run yet. The code is run when we _call_ the function—by referencing its name, followed by parentheses containing the arguments to the functions, separated by commas if there is more than one."
   ]
  },
  {
   "cell_type": "code",
   "execution_count": null,
   "id": "7e7b6915-2dd4-42e4-ad81-34dd5ee74772",
   "metadata": {},
   "outputs": [],
   "source": [
    "collatz_conjecture(18)"
   ]
  },
  {
   "cell_type": "markdown",
   "id": "94dc3875-3a1f-4192-b6b7-83e4d111741e",
   "metadata": {},
   "source": [
    "### Function return values\n",
    "\n",
    "Our Collatz function just printed out the Collatz sequence with the `print` function. However, it is usually more useful to return a value, so that it can be used in future computations. We can write a new function that returns the next number in the Collatz sequence."
   ]
  },
  {
   "cell_type": "code",
   "execution_count": null,
   "id": "e476a9d1-463d-44d4-b9b7-87eefdf950cf",
   "metadata": {},
   "outputs": [],
   "source": [
    "def next_collatz (value):\n",
    "    if value % 2 == 0:\n",
    "        # value is even\n",
    "        return value // 2\n",
    "    else:\n",
    "        return 3 * value + 1"
   ]
  },
  {
   "cell_type": "markdown",
   "id": "5af66300-1c8c-4ebf-816d-d6a3e39dffa4",
   "metadata": {},
   "source": [
    "Now, running `next_collatz` will _return_ the next value in the sequence. At first, this doesn't really look any different, as Jupyter Notebook will automatically print out the return value of the last line of a cell if it is not saved to a variable."
   ]
  },
  {
   "cell_type": "code",
   "execution_count": null,
   "id": "d99d0121-4999-4141-91c2-7d08deb440fe",
   "metadata": {},
   "outputs": [],
   "source": [
    "next_collatz(17)"
   ]
  },
  {
   "cell_type": "markdown",
   "id": "5157f7fd-3a8a-4aef-954c-96dff84e0dc8",
   "metadata": {},
   "source": [
    "However, if we store the result in a variable, nothing is printed out."
   ]
  },
  {
   "cell_type": "code",
   "execution_count": null,
   "id": "b3cf777f-d16a-446d-b45c-e8989e06a635",
   "metadata": {},
   "outputs": [],
   "source": [
    "after_17 = next_collatz(17)"
   ]
  },
  {
   "cell_type": "markdown",
   "id": "98d9eac6-09b3-4d0d-9cf5-c7a71a7f2c21",
   "metadata": {},
   "source": [
    "We can then refer to that value later."
   ]
  },
  {
   "cell_type": "code",
   "execution_count": null,
   "id": "200b6109-508f-4463-93e0-284ee06d5c76",
   "metadata": {},
   "outputs": [],
   "source": [
    "after_17"
   ]
  },
  {
   "cell_type": "markdown",
   "id": "4426333f-bc1d-464b-bbee-ac206f9b8dbf",
   "metadata": {},
   "source": [
    "### Exercise\n",
    "\n",
    "Rewrite the while loop that calculates and prints Collatz sequences to use the `next_collatz` function."
   ]
  },
  {
   "cell_type": "code",
   "execution_count": null,
   "id": "cfb4724e-ed79-4491-ae72-db70a9209cc0",
   "metadata": {},
   "outputs": [],
   "source": []
  },
  {
   "cell_type": "markdown",
   "id": "f7aa6936-1ef6-446d-80dc-41b3d75d56d0",
   "metadata": {},
   "source": [
    "## List and dict comprehensions\n",
    "\n",
    "The final language features we'll talk about are _list and dict comprehensions_. This is a way of combining a for loop with creating a list. It can be used to transform the elements of a list:"
   ]
  },
  {
   "cell_type": "code",
   "execution_count": null,
   "id": "6cae0b51-0509-45bd-8ec9-24362f251297",
   "metadata": {},
   "outputs": [],
   "source": [
    "mylist = [\"this\", \"is\", \"a\", \"test\"]\n",
    "capitalized = [word.upper() for word in mylist]\n",
    "capitalized"
   ]
  },
  {
   "cell_type": "markdown",
   "id": "197ed9a1-dbca-4030-85e9-94c310abdb79",
   "metadata": {},
   "source": [
    "It can also be used to filter a list, for instance filtering only words with more than one letter:"
   ]
  },
  {
   "cell_type": "code",
   "execution_count": null,
   "id": "af923ea2-c3c9-4344-be30-ecebac55e461",
   "metadata": {},
   "outputs": [],
   "source": [
    "[word for word in mylist if len(word) > 1]"
   ]
  },
  {
   "cell_type": "markdown",
   "id": "116f46ab-dbd2-4999-adac-6f88cb1f7a1e",
   "metadata": {},
   "source": [
    "### Exercise\n",
    "\n",
    "Write a list comprehension that selects all words longer than three letters from `capitalized`, and lowercases them."
   ]
  },
  {
   "cell_type": "code",
   "execution_count": null,
   "id": "7e22dfd9-278f-4be3-8efe-53a3e6deb804",
   "metadata": {},
   "outputs": [],
   "source": []
  },
  {
   "cell_type": "markdown",
   "id": "c54c17d7-5080-4fd2-a3c8-55a8f6b52479",
   "metadata": {},
   "source": [
    "### Dict comprehensions\n",
    "\n",
    "A dict comprehension is very similar to a list comprehension, except that it creates a dict rather than a list. It is enclosed in brackets `{}` and uses a `:` to separate the key from the value. We can create a dictionary mapping a word to the length of that word."
   ]
  },
  {
   "cell_type": "code",
   "execution_count": null,
   "id": "bb83a3b9-448d-465f-bb4c-6967b2bb9bf7",
   "metadata": {},
   "outputs": [],
   "source": [
    "{word: len(word) for word in mylist}"
   ]
  },
  {
   "cell_type": "markdown",
   "id": "fe911e92-4f98-4bd2-bce8-888ae923c75a",
   "metadata": {},
   "source": [
    "You can use variables or function calls on either side of the `:`, and you can use if statements to filter results, just like with list comprehensions. For instance, to map capitalized versions of words that start with T to their lengths, we might write:"
   ]
  },
  {
   "cell_type": "code",
   "execution_count": null,
   "id": "8d786a97-8adc-4c9d-b091-21761a66e0a5",
   "metadata": {},
   "outputs": [],
   "source": [
    "{word.upper(): len(word) for word in mylist if word.lower().startswith(\"t\")}"
   ]
  },
  {
   "cell_type": "markdown",
   "id": "9c0aaf57-b355-4fc7-b652-ea2eb596279e",
   "metadata": {},
   "source": [
    "### Exercise\n",
    "\n",
    "Write a dict comprehension mapping lowercase to uppercase versions of words, for all words in mylist that have a length longer than 1 letter."
   ]
  },
  {
   "cell_type": "code",
   "execution_count": null,
   "id": "62b25357-a2c8-4a66-9eb5-93ceecc3e813",
   "metadata": {},
   "outputs": [],
   "source": []
  },
  {
   "cell_type": "code",
   "execution_count": null,
   "id": "eb79d093-219f-48f6-b1d3-af488d3d2801",
   "metadata": {},
   "outputs": [],
   "source": []
  }
 ],
 "metadata": {
  "kernelspec": {
   "display_name": "Python 3 (ipykernel)",
   "language": "python",
   "name": "python3"
  },
  "language_info": {
   "codemirror_mode": {
    "name": "ipython",
    "version": 3
   },
   "file_extension": ".py",
   "mimetype": "text/x-python",
   "name": "python",
   "nbconvert_exporter": "python",
   "pygments_lexer": "ipython3",
   "version": "3.9.13"
  }
 },
 "nbformat": 4,
 "nbformat_minor": 5
}
